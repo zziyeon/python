{
 "cells": [
  {
   "cell_type": "markdown",
   "id": "efa8b170",
   "metadata": {},
   "source": [
    "* 파이썬은 타입을 선언하지 않는다.\n",
    "* 정수 자료형: int\n",
    "* 부동소수점(실수): float 또는 double\n",
    "* 문자열: String\n",
    "\n",
    "* complex형: 허수부를 포함하는 복소수(실수와 허수를 합친것)"
   ]
  },
  {
   "cell_type": "markdown",
   "id": "a614bfd1",
   "metadata": {},
   "source": [
    "# 주석 종류\n",
    "'# 한줄 주석\n",
    "'''\n",
    "여러줄 주석\n",
    "'''"
   ]
  },
  {
   "cell_type": "markdown",
   "id": "549adc23",
   "metadata": {},
   "source": [
    "## print() 함수는 콘솔에 출력하는 명령입니다."
   ]
  },
  {
   "cell_type": "code",
   "execution_count": 1,
   "id": "3df03dc2",
   "metadata": {},
   "outputs": [
    {
     "name": "stdout",
     "output_type": "stream",
     "text": [
      "hello world~\n"
     ]
    }
   ],
   "source": [
    "print('hello world~')"
   ]
  },
  {
   "cell_type": "markdown",
   "id": "059c2e09",
   "metadata": {},
   "source": [
    "## input() 함수는 콘솔로부터 입력을 받는 명령입니다."
   ]
  },
  {
   "cell_type": "code",
   "execution_count": 2,
   "id": "f8fe2a56",
   "metadata": {},
   "outputs": [
    {
     "name": "stdout",
     "output_type": "stream",
     "text": [
      "이름은? 홍길동\n",
      "당신의 이름은 : 홍길동\n"
     ]
    }
   ],
   "source": [
    "name = input(\"이름은? \")\n",
    "print('당신의 이름은 : '+name)"
   ]
  },
  {
   "cell_type": "markdown",
   "id": "ef817c82",
   "metadata": {},
   "source": [
    "### 반복문"
   ]
  },
  {
   "cell_type": "code",
   "execution_count": 3,
   "id": "bd7384fd",
   "metadata": {},
   "outputs": [
    {
     "name": "stdout",
     "output_type": "stream",
     "text": [
      "7\n",
      "14\n",
      "21\n",
      "28\n",
      "35\n",
      "42\n",
      "49\n",
      "56\n",
      "63\n",
      "70\n",
      "77\n",
      "84\n",
      "91\n",
      "98\n"
     ]
    }
   ],
   "source": [
    "# 1~99까지 7의 배수 찾기\n",
    "for i in range(1, 100):\n",
    "    if i %7==0:\n",
    "        print(i)"
   ]
  },
  {
   "cell_type": "markdown",
   "id": "eb245c4a",
   "metadata": {},
   "source": [
    "### Q. 반지름이 5(cm)인 원의 넓이를 구하려면?"
   ]
  },
  {
   "cell_type": "code",
   "execution_count": 4,
   "id": "a16c41f1",
   "metadata": {},
   "outputs": [
    {
     "name": "stdout",
     "output_type": "stream",
     "text": [
      "반지름을 입력하세요: 5\n",
      "=> 반지름이 5인 원의 넓이는 78.5입니다\n"
     ]
    }
   ],
   "source": [
    "r=int(input(\"반지름을 입력하세요: \"))\n",
    "areaOfCircle = float(r*r*3.14)\n",
    "print('=> 반지름이 %d인 원의 넓이는 %0.1f입니다' %(r, areaOfCircle))"
   ]
  },
  {
   "cell_type": "markdown",
   "id": "68c0bdce",
   "metadata": {},
   "source": [
    "#### type() 함수는 타입 확인\n",
    "#### id() 함수는 객체의 주소값을 출력"
   ]
  },
  {
   "cell_type": "code",
   "execution_count": 5,
   "id": "5b9d7be6",
   "metadata": {},
   "outputs": [
    {
     "name": "stdout",
     "output_type": "stream",
     "text": [
      "<class 'str'>\n",
      "1458825533936\n",
      "<class 'int'>\n",
      "1458739834064\n",
      "1458825533360\n"
     ]
    }
   ],
   "source": [
    "name = '홍길동'\n",
    "print(type(name))\n",
    "print (id(name))\n",
    "age = 30\n",
    "print (type(age))\n",
    "print(id(age))\n",
    "# name과 name2는 값은 같지만 주소는 다르다.\n",
    "name2='홍길동'\n",
    "print(id(name2))"
   ]
  },
  {
   "cell_type": "markdown",
   "id": "ed72495c",
   "metadata": {},
   "source": [
    "## 사용한 변수 확인 (whos)"
   ]
  },
  {
   "cell_type": "code",
   "execution_count": 6,
   "id": "14339b83",
   "metadata": {},
   "outputs": [
    {
     "name": "stdout",
     "output_type": "stream",
     "text": [
      "Variable       Type     Data/Info\n",
      "---------------------------------\n",
      "age            int      30\n",
      "areaOfCircle   float    78.5\n",
      "i              int      99\n",
      "name           str      홍길동\n",
      "name2          str      홍길동\n",
      "r              int      5\n"
     ]
    }
   ],
   "source": [
    "whos"
   ]
  },
  {
   "cell_type": "markdown",
   "id": "51dd8f67",
   "metadata": {},
   "source": [
    "## 변수 삭제 (del)"
   ]
  },
  {
   "cell_type": "code",
   "execution_count": 7,
   "id": "2b786da7",
   "metadata": {},
   "outputs": [],
   "source": [
    "del name2"
   ]
  },
  {
   "cell_type": "code",
   "execution_count": 8,
   "id": "18e0879b",
   "metadata": {},
   "outputs": [
    {
     "name": "stdout",
     "output_type": "stream",
     "text": [
      "Variable       Type     Data/Info\n",
      "---------------------------------\n",
      "age            int      30\n",
      "areaOfCircle   float    78.5\n",
      "i              int      99\n",
      "name           str      홍길동\n",
      "r              int      5\n"
     ]
    }
   ],
   "source": [
    "whos"
   ]
  },
  {
   "cell_type": "markdown",
   "id": "19b737c0",
   "metadata": {},
   "source": [
    "### 다중 변수 선언"
   ]
  },
  {
   "cell_type": "code",
   "execution_count": 9,
   "id": "75164312",
   "metadata": {},
   "outputs": [
    {
     "name": "stdout",
     "output_type": "stream",
     "text": [
      "10 20\n"
     ]
    }
   ],
   "source": [
    "a, b=10,20\n",
    "print(a , b)"
   ]
  },
  {
   "cell_type": "markdown",
   "id": "c3c66d83",
   "metadata": {},
   "source": [
    "## 도움말 사용 (help(x))\n",
    "x: 궁금한 함수"
   ]
  },
  {
   "cell_type": "code",
   "execution_count": 10,
   "id": "c43ffa42",
   "metadata": {},
   "outputs": [
    {
     "name": "stdout",
     "output_type": "stream",
     "text": [
      "Help on built-in function print in module builtins:\n",
      "\n",
      "print(...)\n",
      "    print(value, ..., sep=' ', end='\\n', file=sys.stdout, flush=False)\n",
      "    \n",
      "    Prints the values to a stream, or to sys.stdout by default.\n",
      "    Optional keyword arguments:\n",
      "    file:  a file-like object (stream); defaults to the current sys.stdout.\n",
      "    sep:   string inserted between values, default a space.\n",
      "    end:   string appended after the last value, default a newline.\n",
      "    flush: whether to forcibly flush the stream.\n",
      "\n"
     ]
    }
   ],
   "source": [
    "help(print)"
   ]
  },
  {
   "cell_type": "markdown",
   "id": "2673f716",
   "metadata": {},
   "source": [
    "## 연산자\n",
    "    ** 지수\n",
    "    / 나누기\n",
    "    // 몫\n",
    "    % 나머지"
   ]
  },
  {
   "cell_type": "code",
   "execution_count": 11,
   "id": "aef7ecab",
   "metadata": {},
   "outputs": [
    {
     "data": {
      "text/plain": [
       "16"
      ]
     },
     "execution_count": 11,
     "metadata": {},
     "output_type": "execute_result"
    }
   ],
   "source": [
    "4**2"
   ]
  },
  {
   "cell_type": "markdown",
   "id": "25b511f7",
   "metadata": {},
   "source": [
    "## 최근 표현식 변수 : _"
   ]
  },
  {
   "cell_type": "code",
   "execution_count": 12,
   "id": "ba8e11d1",
   "metadata": {},
   "outputs": [
    {
     "data": {
      "text/plain": [
       "30"
      ]
     },
     "execution_count": 12,
     "metadata": {},
     "output_type": "execute_result"
    }
   ],
   "source": [
    "a=10\n",
    "b=20\n",
    "a+b"
   ]
  },
  {
   "cell_type": "code",
   "execution_count": 13,
   "id": "fe229765",
   "metadata": {},
   "outputs": [
    {
     "data": {
      "text/plain": [
       "30"
      ]
     },
     "execution_count": 13,
     "metadata": {},
     "output_type": "execute_result"
    }
   ],
   "source": [
    "_"
   ]
  },
  {
   "cell_type": "code",
   "execution_count": 14,
   "id": "3ad2f320",
   "metadata": {},
   "outputs": [
    {
     "name": "stdout",
     "output_type": "stream",
     "text": [
      "130\n"
     ]
    }
   ],
   "source": [
    "c=100\n",
    "print (c+_)"
   ]
  },
  {
   "cell_type": "code",
   "execution_count": 15,
   "id": "60706354",
   "metadata": {},
   "outputs": [
    {
     "name": "stdout",
     "output_type": "stream",
     "text": [
      "\n",
      "aaaa\n",
      "aaaa\n",
      "bbbbbbbbbbbbbb\n",
      "ccccccccc\n",
      "dddddd\n",
      "\n"
     ]
    }
   ],
   "source": [
    "str = '''\n",
    "aaaa\\naaaa\n",
    "bbbbbbbbbbbbbb\n",
    "ccccccccc\n",
    "dddddd\n",
    "'''\n",
    "print(str)"
   ]
  },
  {
   "cell_type": "code",
   "execution_count": 16,
   "id": "d2a26c70",
   "metadata": {},
   "outputs": [
    {
     "name": "stdout",
     "output_type": "stream",
     "text": [
      "o\n",
      "~\n",
      "o world. hi~\n",
      "llo w\n",
      "6\n",
      "2\n",
      "world\n"
     ]
    }
   ],
   "source": [
    "str2 = 'hello world. hi~'\n",
    "print(str2[4])\n",
    "print(str2[-1])\n",
    "print(str2[4:])\n",
    "print(str2[2:7])\n",
    "print(str2.index('w'))\n",
    "print(str2.index('l'))\n",
    "print(str2[str2.index('w'):str2.index('d')+1])"
   ]
  },
  {
   "cell_type": "code",
   "execution_count": 17,
   "id": "54d99612",
   "metadata": {},
   "outputs": [],
   "source": [
    "import re\n",
    "data = \"이름: 홍길동, 주소:\\\n",
    "전화번호: 010-1234-5566, 특징:동해번쩍서해번쩍\"\n",
    "phone_patten =r'[\\d]{3,4}-[\\d]{4}-[\\d]{4}'\n"
   ]
  },
  {
   "cell_type": "markdown",
   "id": "0694ed7c",
   "metadata": {},
   "source": [
    "## 여러 값을 가질 수 있는 객체\n",
    "- 튜플() 여러 값을 요소로 가질 수 있는 불변 객체\n",
    "    - 요소는 다양한 타입이 올 수 있다.\n",
    "- 리스트[ ] 여러 값을 요소로 가질 수 있는 가변 객체\n",
    "- 딕쳐너리 { } 키, 값을 쌍으로 갖는 요소를 가질 수 있는 가변 객체"
   ]
  },
  {
   "cell_type": "code",
   "execution_count": 26,
   "id": "d1215481",
   "metadata": {},
   "outputs": [
    {
     "name": "stdout",
     "output_type": "stream",
     "text": [
      "<class 'bool'>\n",
      "<class 'bool'>\n",
      "거짓\n"
     ]
    }
   ],
   "source": [
    "a= True\n",
    "b=False\n",
    "print(type(a))\n",
    "print(type(b))\n",
    "\n",
    "# a={'student': '학생', 'teacher':'교사'}\n",
    "a={}\n",
    "if a:\n",
    "    print('참')\n",
    "else:\n",
    "    print('거짓')"
   ]
  },
  {
   "cell_type": "markdown",
   "id": "21e5e197",
   "metadata": {},
   "source": [
    "## format()"
   ]
  },
  {
   "cell_type": "code",
   "execution_count": 30,
   "id": "7e23b077",
   "metadata": {},
   "outputs": [
    {
     "name": "stdout",
     "output_type": "stream",
     "text": [
      "홍길동님의 나이는 20입니다.\n"
     ]
    }
   ],
   "source": [
    "print('{}님의 나이는 {}입니다.'.format(\"홍길동\",20))"
   ]
  },
  {
   "cell_type": "code",
   "execution_count": 32,
   "id": "10eb80ad",
   "metadata": {},
   "outputs": [
    {
     "name": "stdout",
     "output_type": "stream",
     "text": [
      "출력: 30,20,10\n"
     ]
    }
   ],
   "source": [
    "print('출력: {2},{1},{0}'.format(10,20,30))"
   ]
  },
  {
   "cell_type": "markdown",
   "id": "a14f3e11",
   "metadata": {},
   "source": [
    "## 문자열 길이: len()"
   ]
  },
  {
   "cell_type": "code",
   "execution_count": 57,
   "id": "f2dfa1a9",
   "metadata": {},
   "outputs": [
    {
     "data": {
      "text/plain": [
       "5"
      ]
     },
     "execution_count": 57,
     "metadata": {},
     "output_type": "execute_result"
    }
   ],
   "source": [
    "len('hello')"
   ]
  },
  {
   "cell_type": "markdown",
   "id": "66e43306",
   "metadata": {},
   "source": [
    "## 날짜\n",
    "- datetime.date(year, month, day)\n",
    "- datetime.time(hour, minute, scond, microsecond, tzingo)\n",
    "- datetime.datetime(year, month, day, hour, minute, second)"
   ]
  },
  {
   "cell_type": "code",
   "execution_count": 70,
   "id": "93d2d487",
   "metadata": {},
   "outputs": [
    {
     "name": "stdout",
     "output_type": "stream",
     "text": [
      "3\n",
      "dict_items([('student', '학생'), ('teacher', '교사'), ('classroom', '교실')])\n",
      "dict_keys(['student', 'teacher', 'classroom'])\n",
      "dict_values(['학생', '교사', '교실'])\n",
      "학생\n",
      "{'teacher': '교사', 'classroom': '교실'}\n",
      "{'teacher': '교사', 'classroom': '교실', 'student': '학생'}\n",
      "{'teacher': '교사', 'classroom': '교실', 'student': '학생2'}\n"
     ]
    }
   ],
   "source": [
    "dic = {'student':'학생','teacher':'교사','classroom':'교실'}\n",
    "# 요소 갯수\n",
    "print(len(dic))\n",
    "\n",
    "# entry 가져오기\n",
    "print(dic.items())\n",
    "\n",
    "# 키 가져오기\n",
    "print(dic.keys())\n",
    "\n",
    "# value 가져오기 \n",
    "print(dic.values())\n",
    "\n",
    "# 요소 삭제\n",
    "print(dic['student'])\n",
    "del dic['student']\n",
    "print(dic)\n",
    "# 요소 (없으면) 추가\n",
    "dic['student']='학생'\n",
    "print(dic)\n",
    "# 요소 (있으면) 수정\n",
    "dic['student']='학생2'\n",
    "print(dic)"
   ]
  },
  {
   "cell_type": "markdown",
   "id": "174d66e2",
   "metadata": {},
   "source": [
    "## 셋 만들기\n",
    "    - 순서가 정해지지 않고, 중복을 허용하지 않는 집합\n",
    "    - 중괄호('{','}')를 이용하여 정의\n",
    "    \n",
    "    * 추가: add"
   ]
  },
  {
   "cell_type": "markdown",
   "id": "a1f04a22",
   "metadata": {},
   "source": [
    "## ex) 중첩 루프문 이용해서 구구단 출력하기"
   ]
  },
  {
   "cell_type": "code",
   "execution_count": 77,
   "id": "37fd5da8",
   "metadata": {
    "collapsed": true
   },
   "outputs": [
    {
     "name": "stdout",
     "output_type": "stream",
     "text": [
      "2X1= 2 3X1= 3 4X1= 4 5X1= 5 6X1= 6 7X1= 7 8X1= 8 9X1= 9 \n",
      "2X2= 4 3X2= 6 4X2= 8 5X2=10 6X2=12 7X2=14 8X2=16 9X2=18 \n",
      "2X3= 6 3X3= 9 4X3=12 5X3=15 6X3=18 7X3=21 8X3=24 9X3=27 \n",
      "2X4= 8 3X4=12 4X4=16 5X4=20 6X4=24 7X4=28 8X4=32 9X4=36 \n",
      "2X5=10 3X5=15 4X5=20 5X5=25 6X5=30 7X5=35 8X5=40 9X5=45 \n",
      "2X6=12 3X6=18 4X6=24 5X6=30 6X6=36 7X6=42 8X6=48 9X6=54 \n",
      "2X7=14 3X7=21 4X7=28 5X7=35 6X7=42 7X7=49 8X7=56 9X7=63 \n",
      "2X8=16 3X8=24 4X8=32 5X8=40 6X8=48 7X8=56 8X8=64 9X8=72 \n",
      "2X9=18 3X9=27 4X9=36 5X9=45 6X9=54 7X9=63 8X9=72 9X9=81 \n"
     ]
    }
   ],
   "source": [
    "for i in range(1,10):\n",
    "    for j in range(2,10):\n",
    "        print(\"{}X{}={:>2}\".format(j,i,i*j), end=' ')\n",
    "    print()"
   ]
  },
  {
   "cell_type": "code",
   "execution_count": 79,
   "id": "90e4992e",
   "metadata": {},
   "outputs": [
    {
     "name": "stdout",
     "output_type": "stream",
     "text": [
      "30\n"
     ]
    }
   ],
   "source": [
    "def add(num1, num2):\n",
    "    print(num1+num2)\n",
    "add(10,20)"
   ]
  },
  {
   "cell_type": "code",
   "execution_count": 96,
   "id": "773baf34",
   "metadata": {},
   "outputs": [
    {
     "name": "stdout",
     "output_type": "stream",
     "text": [
      "30\n"
     ]
    }
   ],
   "source": [
    "def add2(num1, num2):\n",
    "    '''\n",
    "        매개값을 2개 받아 합을 구하는 함수\n",
    "    '''\n",
    "    return num1 + num2;\n",
    "sum=add2(10,20)\n",
    "print(sum)"
   ]
  },
  {
   "cell_type": "code",
   "execution_count": 97,
   "id": "0f79abb2",
   "metadata": {},
   "outputs": [
    {
     "name": "stdout",
     "output_type": "stream",
     "text": [
      "\n",
      "        매개값을 2개 받아 합을 구하는 함수\n",
      "    \n"
     ]
    }
   ],
   "source": [
    "print(add2.__doc__)"
   ]
  },
  {
   "cell_type": "code",
   "execution_count": 88,
   "id": "4485353b",
   "metadata": {},
   "outputs": [
    {
     "name": "stdout",
     "output_type": "stream",
     "text": [
      "30\n"
     ]
    }
   ],
   "source": [
    "add3 = lambda x,y: x+y\n",
    "print(add3(10,20))"
   ]
  },
  {
   "cell_type": "code",
   "execution_count": 98,
   "id": "c056ee9e",
   "metadata": {},
   "outputs": [
    {
     "name": "stdout",
     "output_type": "stream",
     "text": [
      "print(value, ..., sep=' ', end='\\n', file=sys.stdout, flush=False)\n",
      "\n",
      "Prints the values to a stream, or to sys.stdout by default.\n",
      "Optional keyword arguments:\n",
      "file:  a file-like object (stream); defaults to the current sys.stdout.\n",
      "sep:   string inserted between values, default a space.\n",
      "end:   string appended after the last value, default a newline.\n",
      "flush: whether to forcibly flush the stream.\n"
     ]
    }
   ],
   "source": [
    "print(print.__doc__)"
   ]
  },
  {
   "cell_type": "code",
   "execution_count": 101,
   "id": "15fe3b77",
   "metadata": {},
   "outputs": [
    {
     "name": "stdout",
     "output_type": "stream",
     "text": [
      "6\n"
     ]
    }
   ],
   "source": [
    "i=5\n",
    "def func2(arg=i):\n",
    "    print(arg)\n",
    "    \n",
    "i=6\n",
    "func2(i)"
   ]
  },
  {
   "cell_type": "code",
   "execution_count": 103,
   "id": "b98628bd",
   "metadata": {},
   "outputs": [
    {
     "data": {
      "text/plain": [
       "[10]"
      ]
     },
     "execution_count": 103,
     "metadata": {},
     "output_type": "execute_result"
    }
   ],
   "source": [
    "def func4(a, L=None):\n",
    "    if L is None:\n",
    "        L=[]\n",
    "    L.append(a)\n",
    "    return L\n",
    "\n",
    "list_=[]\n",
    "\n",
    "func4(10,list_)"
   ]
  },
  {
   "cell_type": "code",
   "execution_count": 104,
   "id": "b0e7f120",
   "metadata": {},
   "outputs": [
    {
     "data": {
      "text/plain": [
       "[10, 20]"
      ]
     },
     "execution_count": 104,
     "metadata": {},
     "output_type": "execute_result"
    }
   ],
   "source": [
    "func4(20,L=list_)"
   ]
  },
  {
   "cell_type": "markdown",
   "id": "eb2d2a67",
   "metadata": {},
   "source": [
    "## 가변인수\n",
    "    - 매개변수"
   ]
  },
  {
   "cell_type": "code",
   "execution_count": 107,
   "id": "9da8e449",
   "metadata": {},
   "outputs": [
    {
     "name": "stdout",
     "output_type": "stream",
     "text": [
      "30\n",
      "60\n",
      "100\n"
     ]
    }
   ],
   "source": [
    "def add10(* args):\n",
    "    sum=0\n",
    "    for ele in args:\n",
    "        sum+=ele\n",
    "    return sum\n",
    "\n",
    "print(add10(10,20))\n",
    "print(add10(10,20,30))\n",
    "print(add10(10,20,30,40))"
   ]
  },
  {
   "cell_type": "code",
   "execution_count": null,
   "id": "c17dd51f",
   "metadata": {},
   "outputs": [],
   "source": []
  }
 ],
 "metadata": {
  "kernelspec": {
   "display_name": "Python 3 (ipykernel)",
   "language": "python",
   "name": "python3"
  },
  "language_info": {
   "codemirror_mode": {
    "name": "ipython",
    "version": 3
   },
   "file_extension": ".py",
   "mimetype": "text/x-python",
   "name": "python",
   "nbconvert_exporter": "python",
   "pygments_lexer": "ipython3",
   "version": "3.9.12"
  }
 },
 "nbformat": 4,
 "nbformat_minor": 5
}
