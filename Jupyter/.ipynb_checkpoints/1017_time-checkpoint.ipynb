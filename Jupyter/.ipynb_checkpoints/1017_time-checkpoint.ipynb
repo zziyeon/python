{
 "cells": [
  {
   "cell_type": "code",
   "execution_count": 1,
   "id": "f15e8bc6",
   "metadata": {},
   "outputs": [
    {
     "name": "stdout",
     "output_type": "stream",
     "text": [
      "Mon Oct 17 17:01:56 2022\n"
     ]
    }
   ],
   "source": [
    "import time\n",
    "print(time.ctime())        #현재시각"
   ]
  },
  {
   "cell_type": "markdown",
   "id": "0abfdb79",
   "metadata": {},
   "source": [
    "### * dir(): 모듈이 정의한 이름을 정렬된 문자열 목록으로 반환"
   ]
  },
  {
   "cell_type": "code",
   "execution_count": 2,
   "id": "82cb3604",
   "metadata": {},
   "outputs": [
    {
     "name": "stdout",
     "output_type": "stream",
     "text": [
      "['__doc__', '__loader__', '__name__', '__package__', '__spec__', 'acos', 'acosh', 'asin', 'asinh', 'atan', 'atan2', 'atanh', 'ceil', 'comb', 'copysign', 'cos', 'cosh', 'degrees', 'dist', 'e', 'erf', 'erfc', 'exp', 'expm1', 'fabs', 'factorial', 'floor', 'fmod', 'frexp', 'fsum', 'gamma', 'gcd', 'hypot', 'inf', 'isclose', 'isfinite', 'isinf', 'isnan', 'isqrt', 'lcm', 'ldexp', 'lgamma', 'log', 'log10', 'log1p', 'log2', 'modf', 'nan', 'nextafter', 'perm', 'pi', 'pow', 'prod', 'radians', 'remainder', 'sin', 'sinh', 'sqrt', 'tan', 'tanh', 'tau', 'trunc', 'ulp']\n"
     ]
    }
   ],
   "source": [
    "import math\n",
    "print(dir(math))\n",
    "# math가 가지고 잇는 모듈을 보여줌"
   ]
  },
  {
   "cell_type": "code",
   "execution_count": 4,
   "id": "3034cdfa",
   "metadata": {},
   "outputs": [
    {
     "name": "stdout",
     "output_type": "stream",
     "text": [
      "This module provides access to the mathematical functions\n",
      "defined by the C standard.\n",
      "math\n",
      "ModuleSpec(name='math', loader=<class '_frozen_importlib.BuiltinImporter'>, origin='built-in')\n"
     ]
    }
   ],
   "source": [
    "print(math.__doc__)\n",
    "print(math.__name__)\n",
    "print(math.__spec__)"
   ]
  },
  {
   "cell_type": "code",
   "execution_count": 24,
   "id": "f52571c8",
   "metadata": {},
   "outputs": [
    {
     "name": "stdout",
     "output_type": "stream",
     "text": [
      "객체 생성\n",
      "객체 생성\n",
      "공부하다 홍길동 30\n",
      "공부하다 홍길순 20\n",
      "한국\n",
      "한국\n"
     ]
    }
   ],
   "source": [
    "# 클래스 정의\n",
    "class Person:\n",
    "    # 인스턴스가 공유하는 객체\n",
    "    national = '한국'\n",
    "    '''\n",
    "    name='홍길동'\n",
    "    age=30\n",
    "    '''\n",
    "    # 생성자 메소드\n",
    "    def __init__(self,name,age): \n",
    "        print('객체 생성')\n",
    "        # 인스턴스 데이터\n",
    "        self.name=name\n",
    "        self.age=age\n",
    "    def study(self):\n",
    "        print('공부하다', self.name, self.age)\n",
    "    def eat(self):\n",
    "        print('먹다',self.name, self.age)\n",
    "        \n",
    "    # 객체 소멸 메소드\n",
    "    def __del__(self):\n",
    "        print('Person 객체를 소멸!!')\n",
    "        \n",
    "p1, p2=Person('홍길동',30), Person('홍길순',20)\n",
    "\n",
    "# 인스턴스화 하기(New 키워드 사용 X)\n",
    "# java에서는 this를 사용했지만 python에서는 self 사용\n",
    "p1.study()\n",
    "p2.study()\n",
    "print(p1.national)\n",
    "print(p2.national)"
   ]
  },
  {
   "cell_type": "code",
   "execution_count": null,
   "id": "5c3ab7bc",
   "metadata": {},
   "outputs": [],
   "source": []
  }
 ],
 "metadata": {
  "kernelspec": {
   "display_name": "Python 3 (ipykernel)",
   "language": "python",
   "name": "python3"
  },
  "language_info": {
   "codemirror_mode": {
    "name": "ipython",
    "version": 3
   },
   "file_extension": ".py",
   "mimetype": "text/x-python",
   "name": "python",
   "nbconvert_exporter": "python",
   "pygments_lexer": "ipython3",
   "version": "3.9.12"
  }
 },
 "nbformat": 4,
 "nbformat_minor": 5
}
