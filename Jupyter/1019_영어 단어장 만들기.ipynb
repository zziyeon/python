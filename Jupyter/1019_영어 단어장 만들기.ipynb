{
 "cells": [
  {
   "cell_type": "markdown",
   "id": "bb3dc8c7",
   "metadata": {},
   "source": [
    "### 영어 단어장 파이썬으로 구현하기"
   ]
  },
  {
   "cell_type": "code",
   "execution_count": 207,
   "id": "ad3e8d8c",
   "metadata": {},
   "outputs": [],
   "source": [
    "voca = {'ssu': '학생', 'teacher': '교사', 'classroom':'교실',  'smart': '똑똑한', 'lunch':'점심'}"
   ]
  },
  {
   "cell_type": "code",
   "execution_count": 216,
   "id": "a5e424e1",
   "metadata": {},
   "outputs": [
    {
     "name": "stdout",
     "output_type": "stream",
     "text": [
      "classroom\n"
     ]
    }
   ],
   "source": [
    "        long_word =[]\n",
    "        for len_word in voca.keys():\n",
    "            long_word.append(len_word)\n",
    "        long_word.sort(key=lambda x:(len(x),x), reverse=True)\n",
    "        print(long_word[0])"
   ]
  },
  {
   "cell_type": "code",
   "execution_count": 215,
   "id": "d4df71aa",
   "metadata": {},
   "outputs": [
    {
     "name": "stdout",
     "output_type": "stream",
     "text": [
      "['classroom', 'teacher', 'smart', 'lunch', 'ssu']\n"
     ]
    }
   ],
   "source": []
  },
  {
   "cell_type": "code",
   "execution_count": null,
   "id": "8b800a1b",
   "metadata": {},
   "outputs": [
    {
     "name": "stdout",
     "output_type": "stream",
     "text": [
      "\n",
      "[메뉴] 1.저장 2.검색 3.수정 4.삭제 5.목록 6. 통계 7.종료(x)\n",
      "번호를 입력하세요 >>> 1\n",
      "최대 5개 단어만 저장할 수 있습니다.\n",
      "\n",
      "[메뉴] 1.저장 2.검색 3.수정 4.삭제 5.목록 6. 통계 7.종료(x)\n"
     ]
    }
   ],
   "source": [
    "flag=False\n",
    "while not flag:\n",
    "    print('\\n[메뉴] 1.저장 2.검색 3.수정 4.삭제 5.목록 6. 통계 7.종료(x)')\n",
    "    num = int(input('번호를 입력하세요 >>> '))\n",
    "    # 저장\n",
    "    if num==1 :\n",
    "        if len(voca)<5 :\n",
    "            vocaKey = input('>>> 저장할 영어 단어를 입력하세요: ')\n",
    "            vocaValue = input('>>> 저장할 단어 뜻을 입력하세요: ')\n",
    "            \n",
    "\n",
    "            if vocaKey in voca :\n",
    "                print('이미 등록되었습니다.')\n",
    "            voca[vocaKey]=vocaValue\n",
    "            continue\n",
    "        else:\n",
    "            print('최대 5개 단어만 저장할 수 있습니다.')\n",
    "    # 검색    \n",
    "    elif num==2 :\n",
    "        searchWord = (input('>>> 검색할 단어를 입력하세요: ')).lower()\n",
    "        x=0\n",
    "        for searchKey in voca.keys():\n",
    "            if searchKey.startswith(searchWord) :\n",
    "                if searchKey in voca:\n",
    "                    x=1\n",
    "                    print('{} : {}'.format(searchKey, voca[searchKey])) \n",
    "        if x !=1:\n",
    "            print('단어를 검색할 수 없습니다.')\n",
    "        \n",
    "        continue\n",
    "        \n",
    "    # 수정\n",
    "    elif num==3 :\n",
    "        alterKey = (input('>>> 수정할 영어 단어를 입력하세요: ')).lower()\n",
    "        \n",
    "        if alterKey in voca :\n",
    "            alterValue = input('>>> 수정할 영어 단어 뜻을 입력하세요: ')\n",
    "            voca[alterKey]=alterValue\n",
    "            print('단어의 뜻을 수정 하였습니다.')\n",
    "        else:\n",
    "            print('단어를 검색할 수 없습니다.')\n",
    "        continue\n",
    "    \n",
    "    # 삭제\n",
    "    elif num==4 :\n",
    "        deleteKey = (input('>>> 삭제할 영어 단어를 입력하세요')).lower()\n",
    "        if deleteKey in voca :\n",
    "            del voca[deleteKey]\n",
    "            print('단어를 삭제 하였습니다.')\n",
    "        else:\n",
    "            print('단어를 검색할 수 없습니다.')\n",
    "        continue\n",
    "    \n",
    "    # 목록\n",
    "    elif num==5 :\n",
    "        print('[서브메뉴] 1.오름차순 2.내림차순')\n",
    "        arrayType = int(input('정렬 순서를 선택해주세요: '))\n",
    "        import operator\n",
    "        sortedVoca = sorted(voca.items(), key = operator.itemgetter(0))\n",
    "        reversedVoca = reversed(sortedVoca)\n",
    "        if arrayType == 1:\n",
    "            for item in sortedVoca:\n",
    "                print('{}:{}'.format(item[0], item[1]))\n",
    "            \n",
    "        elif arrayType == 2:\n",
    "            for item in reversedVoca:\n",
    "                print('{}:{}'.format(item[0], item[1]))\n",
    "        continue\n",
    "    \n",
    "    # 통계\n",
    "    elif num==6 :\n",
    "        long_word =[]\n",
    "        for len_word in voca.keys():\n",
    "            long_word.append(len_word)\n",
    "        long_word.sort(key=lambda x:(len(x),x), reverse=True)\n",
    "\n",
    "        print('1. 저장된 단어 갯수: {}'.format(len(voca)))\n",
    "        print('2. 단어의 문자수가 가장 많은 단어: {}'.format(long_word[0]))\n",
    "        print('3. 단어 글자수 내림차순 출력(단어만): {}'.format(long_word))\n",
    "        \n",
    "        continue\n",
    "        \n",
    "    # 종료\n",
    "    elif num==7 :\n",
    "        break\n"
   ]
  },
  {
   "cell_type": "code",
   "execution_count": null,
   "id": "024d68a0",
   "metadata": {},
   "outputs": [],
   "source": [
    "# 딕셔너리 객체 생성 1\n",
    "dictionary = {}\n",
    "print(type(dictionary))"
   ]
  },
  {
   "cell_type": "code",
   "execution_count": 116,
   "id": "0d1a49ee",
   "metadata": {},
   "outputs": [
    {
     "name": "stdout",
     "output_type": "stream",
     "text": [
      "<class 'dict'>\n"
     ]
    }
   ],
   "source": [
    "# 딕셔너리 객체 생성 2 dict() 함수사용\n",
    "dictionary2 = dict()\n",
    "print(type(dictionary2))"
   ]
  },
  {
   "cell_type": "code",
   "execution_count": 117,
   "id": "5440977f",
   "metadata": {},
   "outputs": [
    {
     "name": "stdout",
     "output_type": "stream",
     "text": [
      "{'student': '학생', 'teacher': '교사', 'classroom': '교실'}\n"
     ]
    }
   ],
   "source": [
    "# 요소추가\n",
    "dictionary['student']='학생'\n",
    "dictionary['teacher']='교사'\n",
    "dictionary['classroom']='교실'\n",
    "print(dictionary)"
   ]
  },
  {
   "cell_type": "code",
   "execution_count": 118,
   "id": "76384b3c",
   "metadata": {},
   "outputs": [
    {
     "name": "stdout",
     "output_type": "stream",
     "text": [
      "{'teacher': '교사', 'classroom': '교실'}\n"
     ]
    }
   ],
   "source": [
    "# 요소 삭제\n",
    "del dictionary['student']\n",
    "print(dictionary)"
   ]
  },
  {
   "cell_type": "code",
   "execution_count": 119,
   "id": "12f65607",
   "metadata": {},
   "outputs": [
    {
     "name": "stdout",
     "output_type": "stream",
     "text": [
      "교사\n",
      "{'classroom': '교실'}\n"
     ]
    }
   ],
   "source": [
    "# pop(): 요소 제거하기\n",
    "deletedItem = dictionary.pop('teacher')\n",
    "print(deletedItem)\n",
    "print(dictionary)"
   ]
  },
  {
   "cell_type": "code",
   "execution_count": 120,
   "id": "4993db37",
   "metadata": {},
   "outputs": [
    {
     "name": "stdout",
     "output_type": "stream",
     "text": [
      "{'classroom': '교실', 'student': '학생2'}\n"
     ]
    }
   ],
   "source": [
    "# 요소 수정 -> 있으면 수정, 없으면 추가\n",
    "dictionary['student']='학생2'\n",
    "print(dictionary)"
   ]
  },
  {
   "cell_type": "code",
   "execution_count": 121,
   "id": "0cd186e0",
   "metadata": {},
   "outputs": [],
   "source": [
    "# 요소 조회\n",
    "dictionary['teacher']='선생님'\n",
    "dictionary['classroom']='교실'"
   ]
  },
  {
   "cell_type": "code",
   "execution_count": 122,
   "id": "ca171a14",
   "metadata": {},
   "outputs": [
    {
     "name": "stdout",
     "output_type": "stream",
     "text": [
      "dict_items([('classroom', '교실'), ('student', '학생2'), ('teacher', '선생님')])\n",
      "dict_keys(['classroom', 'student', 'teacher'])\n",
      "dict_values(['교실', '학생2', '선생님'])\n",
      "학생2\n",
      "학생2\n",
      "-1\n"
     ]
    }
   ],
   "source": [
    "# 요소 조회1) items()\n",
    "# 요소(키, 값)들을 튜플로, 전체는 리스트 반환\n",
    "items = dictionary.items()\n",
    "print(items)\n",
    "\n",
    "# 요소 조회2) keys()\n",
    "# 키를 요소로 갖는 리스트를 반환\n",
    "keys = dictionary.keys()\n",
    "print(keys)\n",
    "\n",
    "# 요소 조회3) values()\n",
    "# 값를 요소로 갖는 리스트를 반환\n",
    "values = dictionary.values()\n",
    "print(values)\n",
    "\n",
    "# 요소 조회4-1) 키로 값 조회하기\n",
    "value = dictionary['student']\n",
    "print(value)\n",
    "\n",
    "# 요소 조회4-2) 키로 값 조회하기\n",
    "# 만약 없으면 2번째 매개 값을 반환\n",
    "value2=dictionary.get('student','none')\n",
    "print(value2)\n",
    "value3=dictionary.get('student22', -1)\n",
    "print(value3)"
   ]
  },
  {
   "cell_type": "code",
   "execution_count": 123,
   "id": "96f88ea9",
   "metadata": {},
   "outputs": [
    {
     "ename": "TypeError",
     "evalue": "printList() missing 1 required positional argument: 'dic'",
     "output_type": "error",
     "traceback": [
      "\u001b[1;31m---------------------------------------------------------------------------\u001b[0m",
      "\u001b[1;31mTypeError\u001b[0m                                 Traceback (most recent call last)",
      "Input \u001b[1;32mIn [123]\u001b[0m, in \u001b[0;36m<cell line: 5>\u001b[1;34m()\u001b[0m\n\u001b[0;32m      3\u001b[0m     \u001b[38;5;28;01mfor\u001b[39;00m ele \u001b[38;5;129;01min\u001b[39;00m dic\u001b[38;5;241m.\u001b[39mkeys():\n\u001b[0;32m      4\u001b[0m         \u001b[38;5;28mprint\u001b[39m(\u001b[38;5;124m'\u001b[39m\u001b[38;5;132;01m{}\u001b[39;00m\u001b[38;5;124m : \u001b[39m\u001b[38;5;132;01m{}\u001b[39;00m\u001b[38;5;124m'\u001b[39m\u001b[38;5;241m.\u001b[39mformat(ele, dictionary\u001b[38;5;241m.\u001b[39mget(ele)))\n\u001b[1;32m----> 5\u001b[0m \u001b[43mprintList\u001b[49m\u001b[43m(\u001b[49m\u001b[43m)\u001b[49m\n",
      "\u001b[1;31mTypeError\u001b[0m: printList() missing 1 required positional argument: 'dic'"
     ]
    }
   ],
   "source": [
    "# 요소 전체 출력하기\n",
    "def printList(dic) :\n",
    "    for ele in dic.keys():\n",
    "        print('{} : {}'.format(ele, dictionary.get(ele)))\n",
    "printList()"
   ]
  },
  {
   "cell_type": "code",
   "execution_count": 124,
   "id": "7872afe0",
   "metadata": {},
   "outputs": [
    {
     "name": "stdout",
     "output_type": "stream",
     "text": [
      "{'classroom': '교실', 'student': '학생2', 'teacher': '선생님'} \n",
      " {'classroom': '교실', 'student': '학생2', 'teacher': '선생님'}\n"
     ]
    }
   ],
   "source": [
    "# dict 객체 복사\n",
    "dictionary3 = dictionary.copy()\n",
    "print(dictionary,'\\n',dictionary3)"
   ]
  },
  {
   "cell_type": "code",
   "execution_count": 16,
   "id": "d2a4bd12",
   "metadata": {},
   "outputs": [
    {
     "name": "stdout",
     "output_type": "stream",
     "text": [
      "{'classroom': '교실', 'student': '학생2', 'teacher': '선생님', 'blackboard': '칠판'}\n"
     ]
    }
   ],
   "source": [
    "# 2개의 dict 객체 병합하기 update()\n",
    "# 키가 동일하면 업데이트 다르면 추가되는 방식\n",
    "dictionary3['blackboard']='칠판'\n",
    "dictionary.update(dictionary3)\n",
    "print(dictionary)"
   ]
  },
  {
   "cell_type": "code",
   "execution_count": 18,
   "id": "25d0dbae",
   "metadata": {},
   "outputs": [
    {
     "name": "stdout",
     "output_type": "stream",
     "text": [
      "{'classroom': '교실', 'student': '학생2', 'teacher': '선생님', 'blackboard': '칠판', 'student3': '학생3이다'}\n"
     ]
    }
   ],
   "source": [
    "# 키가 있으면 값을 반환하고 없으면 추가\n",
    "# 1. 키가 있으면 값을 반환\n",
    "dictionary.setdefault('student','학생3')\n",
    "# 2. 키가 없으면 요소 추가\n",
    "dictionary.setdefault('student3','학생3이다')\n",
    "\n",
    "print(dictionary)"
   ]
  },
  {
   "cell_type": "code",
   "execution_count": null,
   "id": "a256aa94",
   "metadata": {},
   "outputs": [],
   "source": [
    "# key 존재 여부 판단\n",
    "'student' in dictionary    # 있는지 확인\n",
    "'student22' not in dictionary    # 없는지 확인"
   ]
  },
  {
   "cell_type": "code",
   "execution_count": 21,
   "id": "99b94eea",
   "metadata": {},
   "outputs": [
    {
     "name": "stdout",
     "output_type": "stream",
     "text": [
      "5\n"
     ]
    }
   ],
   "source": [
    "# 요소의 갯수\n",
    "print(len(dictionary))"
   ]
  },
  {
   "cell_type": "code",
   "execution_count": 28,
   "id": "d495ced6",
   "metadata": {},
   "outputs": [
    {
     "name": "stdout",
     "output_type": "stream",
     "text": [
      "==정렬 시작==\n",
      "[('blackboard', '칠판'), ('classroom', '교실'), ('student', '학생2'), ('student3', '학생3이다'), ('teacher', '선생님')]\n",
      "blackboard      : 칠판\n",
      "classroom       : 교실\n",
      "student         : 학생2\n",
      "student3        : 학생3이다\n",
      "teacher         : 선생님\n",
      "teacher         : 선생님\n",
      "student3        : 학생3이다\n",
      "student         : 학생2\n",
      "classroom       : 교실\n",
      "blackboard      : 칠판\n",
      "==정렬 끝==\n"
     ]
    }
   ],
   "source": [
    "import operator\n",
    "# 요소 정렬\n",
    "print('==정렬 시작==')\n",
    "sortedDictionary = sorted(dictionary.items(), key=operator.itemgetter(0))\n",
    "\n",
    "re_sortedDictionary = sorted(dictionary.items(), key=operator.itemgetter(0),reverse=True)\n",
    "reversedDictionary = reversed(sortedDictionary)\n",
    "\n",
    "print(sortedDictionary)\n",
    "\n",
    "print('==오름차순==')\n",
    "for item in sortedDictionary :\n",
    "    print('{:15} : {}'.format(item[0], item[1]))\n",
    "    \n",
    "print('==내림차순==')  \n",
    "for item in re_sortedDictionary:\n",
    "    print('{:15} : {}'.format(item[0], item[1]))    \n",
    "    \n",
    "print('==정렬 끝==')\n"
   ]
  },
  {
   "cell_type": "code",
   "execution_count": null,
   "id": "5851c1e3",
   "metadata": {},
   "outputs": [],
   "source": [
    "# 요소 전체 삭제\n",
    "# dictionary.clear()\n",
    "# print(len(dictionary))        #{}"
   ]
  },
  {
   "cell_type": "code",
   "execution_count": null,
   "id": "440c0ea9",
   "metadata": {},
   "outputs": [],
   "source": [
    "# 사전 객체 제거: 메모리에서 제거되어 접근 불가\n",
    "#del dictionary"
   ]
  },
  {
   "cell_type": "code",
   "execution_count": 125,
   "id": "cb569519",
   "metadata": {},
   "outputs": [
    {
     "name": "stdout",
     "output_type": "stream",
     "text": [
      "==요소갯수==\n",
      "3\n"
     ]
    },
    {
     "ename": "TypeError",
     "evalue": "list.count() takes exactly one argument (0 given)",
     "output_type": "error",
     "traceback": [
      "\u001b[1;31m---------------------------------------------------------------------------\u001b[0m",
      "\u001b[1;31mTypeError\u001b[0m                                 Traceback (most recent call last)",
      "Input \u001b[1;32mIn [125]\u001b[0m, in \u001b[0;36m<cell line: 3>\u001b[1;34m()\u001b[0m\n\u001b[0;32m      1\u001b[0m \u001b[38;5;28mprint\u001b[39m(\u001b[38;5;124m'\u001b[39m\u001b[38;5;124m==요소갯수==\u001b[39m\u001b[38;5;124m'\u001b[39m)\n\u001b[0;32m      2\u001b[0m \u001b[38;5;28mprint\u001b[39m(\u001b[38;5;28mlen\u001b[39m(dictionary))\n\u001b[1;32m----> 3\u001b[0m \u001b[38;5;28mprint\u001b[39m(\u001b[38;5;28;43mlist\u001b[39;49m\u001b[43m(\u001b[49m\u001b[43mdictionary\u001b[49m\u001b[38;5;241;43m.\u001b[39;49m\u001b[43mitems\u001b[49m\u001b[43m(\u001b[49m\u001b[43m)\u001b[49m\u001b[43m)\u001b[49m\u001b[38;5;241;43m.\u001b[39;49m\u001b[43mcount\u001b[49m\u001b[43m(\u001b[49m\u001b[43m)\u001b[49m)\n",
      "\u001b[1;31mTypeError\u001b[0m: list.count() takes exactly one argument (0 given)"
     ]
    }
   ],
   "source": [
    "print('==요소갯수==')\n",
    "print(len(dictionary))\n",
    "print(list(dictionary.items()).count())"
   ]
  },
  {
   "cell_type": "code",
   "execution_count": null,
   "id": "d19f545c",
   "metadata": {},
   "outputs": [],
   "source": []
  }
 ],
 "metadata": {
  "kernelspec": {
   "display_name": "Python 3 (ipykernel)",
   "language": "python",
   "name": "python3"
  },
  "language_info": {
   "codemirror_mode": {
    "name": "ipython",
    "version": 3
   },
   "file_extension": ".py",
   "mimetype": "text/x-python",
   "name": "python",
   "nbconvert_exporter": "python",
   "pygments_lexer": "ipython3",
   "version": "3.9.12"
  }
 },
 "nbformat": 4,
 "nbformat_minor": 5
}
