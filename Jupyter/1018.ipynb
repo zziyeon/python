{
 "cells": [
  {
   "cell_type": "markdown",
   "id": "915c6aa4",
   "metadata": {},
   "source": [
    "### 파이썬에서 변수는 객체"
   ]
  },
  {
   "cell_type": "code",
   "execution_count": 2,
   "id": "ff858fdb",
   "metadata": {},
   "outputs": [
    {
     "name": "stdout",
     "output_type": "stream",
     "text": [
      "<class 'int'>\n",
      "2085676864976\n"
     ]
    }
   ],
   "source": [
    "x=100\n",
    "print(type(x))\n",
    "print(id(x))     # x의 주소"
   ]
  },
  {
   "cell_type": "markdown",
   "id": "cce7a42d",
   "metadata": {},
   "source": [
    "### 함수의 설명보기\n",
    "    * help(함수명)\n",
    "    * 매개값 입력란에 (shift+tab)\n",
    "    * 함수명?"
   ]
  },
  {
   "cell_type": "code",
   "execution_count": 5,
   "id": "ca77dcb1",
   "metadata": {
    "collapsed": true
   },
   "outputs": [
    {
     "name": "stdout",
     "output_type": "stream",
     "text": [
      "Help on built-in function print in module builtins:\n",
      "\n",
      "print(...)\n",
      "    print(value, ..., sep=' ', end='\\n', file=sys.stdout, flush=False)\n",
      "    \n",
      "    Prints the values to a stream, or to sys.stdout by default.\n",
      "    Optional keyword arguments:\n",
      "    file:  a file-like object (stream); defaults to the current sys.stdout.\n",
      "    sep:   string inserted between values, default a space.\n",
      "    end:   string appended after the last value, default a newline.\n",
      "    flush: whether to forcibly flush the stream.\n",
      "\n"
     ]
    }
   ],
   "source": [
    "help(print)"
   ]
  },
  {
   "cell_type": "code",
   "execution_count": 4,
   "id": "f3d2b139",
   "metadata": {
    "collapsed": true
   },
   "outputs": [
    {
     "name": "stdout",
     "output_type": "stream",
     "text": [
      "1\n",
      "2\n",
      "3\n",
      "4\n",
      "5\n",
      "6\n",
      "7\n",
      "8\n",
      "9\n"
     ]
    }
   ],
   "source": [
    "for i in range(1,10):\n",
    "    print(i)"
   ]
  },
  {
   "cell_type": "markdown",
   "id": "26786e93",
   "metadata": {},
   "source": [
    "### Q. 사용자로부터 구구단을 입력 받아 출력하는 프로그램을 작성하시오"
   ]
  },
  {
   "cell_type": "code",
   "execution_count": 26,
   "id": "6099cdb5",
   "metadata": {
    "collapsed": true
   },
   "outputs": [
    {
     "name": "stdout",
     "output_type": "stream",
     "text": [
      "구구단 : 3\n",
      "3 * 1 = 3\n",
      "3 * 2 = 6\n",
      "3 * 3 = 9\n",
      "3 * 4 = 12\n",
      "3 * 5 = 15\n",
      "3 * 6 = 18\n",
      "3 * 7 = 21\n",
      "3 * 8 = 24\n",
      "3 * 9 = 27\n"
     ]
    }
   ],
   "source": [
    "gugudan = int(input('구구단 : '))\n",
    "\n",
    "for i in range (1,10):\n",
    "    #print(r'{}x{}={}'.format(gugudan, i , gugudan*i))\n",
    "    print(gugudan,'*',i,'=',gugudan*i,)"
   ]
  },
  {
   "cell_type": "code",
   "execution_count": 27,
   "id": "53475d95",
   "metadata": {
    "collapsed": true
   },
   "outputs": [
    {
     "name": "stdout",
     "output_type": "stream",
     "text": [
      "구구단 : 2\n",
      " 2 * 1 = 2\n",
      " 2 * 2 = 4\n",
      " 2 * 3 = 6\n",
      " 2 * 4 = 8\n",
      " 2 * 5 =10\n",
      " 2 * 6 =12\n",
      " 2 * 7 =14\n",
      " 2 * 8 =16\n",
      " 2 * 9 =18\n"
     ]
    }
   ],
   "source": [
    "gugudan = int(input('구구단 : '))\n",
    "\n",
    "for i in range (1,10):\n",
    "    print(r'{:^3}*{:^3}={:2}'.format(gugudan, i, gugudan*i))"
   ]
  },
  {
   "cell_type": "code",
   "execution_count": 20,
   "id": "3722b764",
   "metadata": {
    "scrolled": true
   },
   "outputs": [
    {
     "name": "stdout",
     "output_type": "stream",
     "text": [
      "울산\tkh\t정보교육원\taa\tbb\tcc!"
     ]
    }
   ],
   "source": [
    "print('울산', 'kh', '정보교육원', 'aa', 'bb', 'cc', sep='\\t', end='!')"
   ]
  },
  {
   "cell_type": "code",
   "execution_count": 25,
   "id": "32305c00",
   "metadata": {},
   "outputs": [
    {
     "name": "stdout",
     "output_type": "stream",
     "text": [
      "\t \n",
      " \t\n",
      "\\t \\n \\t\n",
      "\\t \\n \\t\n"
     ]
    }
   ],
   "source": [
    "print('\\t \\n \\t')\n",
    "print('\\\\t \\\\n \\\\t')    # 1번 라인을 그대로 출력하고 싶으면\n",
    "print(r'\\t \\n \\t')      # raw 문자열(역슬래시 문자를 해석하지 않고 남겨둠)"
   ]
  },
  {
   "cell_type": "code",
   "execution_count": 33,
   "id": "5a179c22",
   "metadata": {},
   "outputs": [
    {
     "name": "stdout",
     "output_type": "stream",
     "text": [
      "2022-10-18\n",
      "2022/10/18\n",
      "22/10/18\n"
     ]
    }
   ],
   "source": [
    "import datetime\n",
    "print(datetime.date(2022, 10, 18))\n",
    "print('{:%Y/%m/%d}'.format(datetime.date(2022,10,18)))\n",
    "print('{:%y/%m/%d}'.format(datetime.date(2022,10,18)))"
   ]
  },
  {
   "cell_type": "markdown",
   "id": "1595b90f",
   "metadata": {},
   "source": [
    "### 피연산자 2개를 입력 받아 몫과 나머지를 구하는 프로그램을 작성하시오"
   ]
  },
  {
   "cell_type": "code",
   "execution_count": 40,
   "id": "f9d6ceaf",
   "metadata": {},
   "outputs": [
    {
     "name": "stdout",
     "output_type": "stream",
     "text": [
      "6\n",
      "4\n",
      "몫: 1, 나머지 2\n"
     ]
    }
   ],
   "source": [
    "# 내 풀이\n",
    "num1=int(input())\n",
    "num2=int(input())\n",
    "print(\"몫: {}, 나머지 {}\".format(num1//num2, num1%num2))"
   ]
  },
  {
   "cell_type": "code",
   "execution_count": 42,
   "id": "ad8bc250",
   "metadata": {},
   "outputs": [
    {
     "name": "stdout",
     "output_type": "stream",
     "text": [
      "5\n",
      "4\n",
      "몫: 1 나머지: 1\n"
     ]
    }
   ],
   "source": [
    "# 선생님 풀이\n",
    "num1=int(input())\n",
    "num2=int(input())\n",
    "\n",
    "def calculate(x,y):\n",
    "    '''\n",
    "    parameter x: 젯수, y:피젯수\n",
    "    return 몫 나머지\n",
    "    '''\n",
    "    quotient = x//y   #몫\n",
    "    remainder = x%y   #나머지\n",
    "    return quotient, remainder\n",
    "\n",
    "result = calculate(num1, num2)\n",
    "print('몫: {} 나머지: {}'.format(result[0],result[1]))"
   ]
  },
  {
   "cell_type": "markdown",
   "id": "38d0d140",
   "metadata": {},
   "source": [
    "### 리스트, 튜플\n",
    "    * 공통점\n",
    "        - 인덱스를 가진다\n",
    "        - 순서가 있다\n",
    "        - 중복 가능한 요소를 가질수 있다.\n",
    "    * 차이점\n",
    "        - 리스트 []: 가변객체(mutable)\n",
    "        - 튜플 (): 불변객체(immutable) , 즉 읽기만 가능"
   ]
  },
  {
   "cell_type": "code",
   "execution_count": 48,
   "id": "9094391b",
   "metadata": {},
   "outputs": [
    {
     "name": "stdout",
     "output_type": "stream",
     "text": [
      "['banana', 'apple', 'grapes', 'orange']\n",
      "('banana', 'apple', 'apple', 'grapes')\n",
      "orange grapes\n"
     ]
    }
   ],
   "source": [
    "fruit=['banana','apple','grapes']\n",
    "fruit2=('banana','apple','apple','grapes')    # 튜플은 변경, 추가, 삭제 안됨.(읽기용으로 사용)\n",
    "\n",
    "fruit.append('orange')\n",
    "print(fruit)\n",
    "print(fruit2)\n",
    "print(fruit[-1], fruit2[-1])"
   ]
  },
  {
   "cell_type": "code",
   "execution_count": 49,
   "id": "ed27f185",
   "metadata": {},
   "outputs": [
    {
     "name": "stdout",
     "output_type": "stream",
     "text": [
      "55\n"
     ]
    }
   ],
   "source": [
    "# 1~10 합(for문)\n",
    "sum = 0 \n",
    "for i in range(1,10+1):\n",
    "    sum += i\n",
    "print(sum)"
   ]
  },
  {
   "cell_type": "code",
   "execution_count": 60,
   "id": "f302e13e",
   "metadata": {},
   "outputs": [
    {
     "name": "stdout",
     "output_type": "stream",
     "text": [
      "55\n"
     ]
    }
   ],
   "source": [
    "# 1~10 합(while문)\n",
    "count = 1\n",
    "sum =0\n",
    "while count<=10:\n",
    "    sum +=count\n",
    "    count +=1\n",
    "print (sum)"
   ]
  },
  {
   "cell_type": "code",
   "execution_count": 50,
   "id": "17f39102",
   "metadata": {},
   "outputs": [
    {
     "name": "stdout",
     "output_type": "stream",
     "text": [
      "30\n"
     ]
    }
   ],
   "source": [
    "# 1~10 짝수 합(for문)\n",
    "sum = 0\n",
    "for i in range(1,10+1):\n",
    "    if i%2==0:\n",
    "        sum+=i\n",
    "print(sum)"
   ]
  },
  {
   "cell_type": "code",
   "execution_count": 61,
   "id": "fad38812",
   "metadata": {},
   "outputs": [
    {
     "name": "stdout",
     "output_type": "stream",
     "text": [
      "30\n"
     ]
    }
   ],
   "source": [
    "# 1~10 짝수 합(while문)\n",
    "count =1\n",
    "sum=0\n",
    "while count<=10:\n",
    "    if(count%2==0):\n",
    "        sum+=count\n",
    "    count +=1\n",
    "print(sum)"
   ]
  },
  {
   "cell_type": "markdown",
   "id": "a8c1d149",
   "metadata": {},
   "source": [
    "### Q. 정수를 입력받아 짝수, 홀수 판단하기"
   ]
  },
  {
   "cell_type": "code",
   "execution_count": 53,
   "id": "1664509c",
   "metadata": {},
   "outputs": [
    {
     "name": "stdout",
     "output_type": "stream",
     "text": [
      "정수 입력 >> 7\n",
      "홀수입니다.\n"
     ]
    }
   ],
   "source": [
    "num = int(input('정수 입력 >> '))\n",
    "if(num%2==0):\n",
    "    print('짝수입니다.')\n",
    "else:\n",
    "    print('홀수입니다.')"
   ]
  },
  {
   "cell_type": "markdown",
   "id": "2669437c",
   "metadata": {},
   "source": [
    "### Q. 점수를 입력 받아 학점 구하기(90점 이상 A, 80점 이상 B, 70점 이상 C, 60점 이상 D, 60점 미만 F"
   ]
  },
  {
   "cell_type": "code",
   "execution_count": 59,
   "id": "043c8903",
   "metadata": {},
   "outputs": [
    {
     "name": "stdout",
     "output_type": "stream",
     "text": [
      "점수를 입력하세요 >> 65\n",
      "D\n"
     ]
    }
   ],
   "source": [
    "num = int(input('점수를 입력하세요 >> '))\n",
    "if num>=90 :\n",
    "    print('A')\n",
    "elif num>=80 :\n",
    "    print('B')\n",
    "elif num>=70 :\n",
    "    print('C')\n",
    "elif num>=60:\n",
    "    print('D')\n",
    "else:\n",
    "    print('F')"
   ]
  },
  {
   "cell_type": "code",
   "execution_count": null,
   "id": "57986125",
   "metadata": {},
   "outputs": [],
   "source": []
  }
 ],
 "metadata": {
  "kernelspec": {
   "display_name": "Python 3 (ipykernel)",
   "language": "python",
   "name": "python3"
  },
  "language_info": {
   "codemirror_mode": {
    "name": "ipython",
    "version": 3
   },
   "file_extension": ".py",
   "mimetype": "text/x-python",
   "name": "python",
   "nbconvert_exporter": "python",
   "pygments_lexer": "ipython3",
   "version": "3.9.12"
  }
 },
 "nbformat": 4,
 "nbformat_minor": 5
}
